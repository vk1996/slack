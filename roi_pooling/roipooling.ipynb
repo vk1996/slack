{
  "nbformat": 4,
  "nbformat_minor": 0,
  "metadata": {
    "colab": {
      "name": "roipooling.ipynb",
      "version": "0.3.2",
      "provenance": [],
      "collapsed_sections": []
    },
    "kernelspec": {
      "name": "python3",
      "display_name": "Python 3"
    },
    "accelerator": "GPU"
  },
  "cells": [
    {
      "cell_type": "code",
      "metadata": {
        "id": "RCDpiO1KC27A",
        "colab_type": "code",
        "colab": {}
      },
      "source": [
        "import tensorflow as tf\n",
        "from tensorflow.keras.layers import Layer\n",
        "\n",
        "class ROIPoolingLayer(Layer):\n",
        "    \"\"\" Implements Region Of Interest Max Pooling \n",
        "        for channel-first images and relative bounding box coordinates\n",
        "        \n",
        "        # Constructor parameters\n",
        "            pooled_height, pooled_width (int) -- \n",
        "              specify height and width of layer outputs\n",
        "        \n",
        "        Shape of inputs\n",
        "            [(batch_size, pooled_height, pooled_width, n_channels),\n",
        "             (batch_size, num_rois, 4)]\n",
        "           \n",
        "        Shape of output\n",
        "            (batch_size, num_rois, pooled_height, pooled_width, n_channels)\n",
        "    \n",
        "    \"\"\"\n",
        "    def __init__(self, pooled_height, pooled_width, **kwargs):\n",
        "        self.pooled_height = pooled_height\n",
        "        self.pooled_width = pooled_width\n",
        "        \n",
        "        super(ROIPoolingLayer, self).__init__(**kwargs)\n",
        "        \n",
        "    def compute_output_shape(self, input_shape):\n",
        "        \"\"\" Returns the shape of the ROI Layer output\n",
        "        \"\"\"\n",
        "        feature_map_shape, rois_shape = input_shape\n",
        "        assert feature_map_shape[0] == rois_shape[0]\n",
        "        batch_size = feature_map_shape[0]\n",
        "        n_rois = rois_shape[1]\n",
        "        n_channels = feature_map_shape[3]\n",
        "        return (batch_size, n_rois, self.pooled_height, \n",
        "                self.pooled_width, n_channels)\n",
        "\n",
        "    def call(self, x):\n",
        "        \"\"\" Maps the input tensor of the ROI layer to its output\n",
        "        \n",
        "            # Parameters\n",
        "                x[0] -- Convolutional feature map tensor,\n",
        "                        shape (batch_size, pooled_height, pooled_width, n_channels)\n",
        "                x[1] -- Tensor of region of interests from candidate bounding boxes,\n",
        "                        shape (batch_size, num_rois, 4)\n",
        "                        Each region of interest is defined by four relative \n",
        "                        coordinates (x_min, y_min, x_max, y_max) between 0 and 1\n",
        "\n",
        "            # Output\n",
        "                pooled_areas -- Tensor with the pooled region of interest, shape\n",
        "                    (batch_size, num_rois, pooled_height, pooled_width, n_channels)\n",
        "\n",
        "        \"\"\"\n",
        "        def curried_pool_rois(x): \n",
        "          return ROIPoolingLayer._pool_rois(x[0], x[1], \n",
        "                                            self.pooled_height, \n",
        "                                            self.pooled_width)\n",
        "        \n",
        "        pooled_areas = tf.map_fn(curried_pool_rois, x, dtype=tf.float32)\n",
        "\n",
        "        return pooled_areas\n",
        "    \n",
        "    @staticmethod\n",
        "    def _pool_rois(feature_map, rois, pooled_height, pooled_width):\n",
        "        \"\"\" Applies ROI pooling for a single image and varios ROIs\n",
        "        \"\"\"\n",
        "        def curried_pool_roi(roi): \n",
        "          return ROIPoolingLayer._pool_roi(feature_map, roi, \n",
        "                                           pooled_height, pooled_width)\n",
        "        \n",
        "        pooled_areas = tf.map_fn(curried_pool_roi, rois, dtype=tf.float32)\n",
        "        return pooled_areas\n",
        "    \n",
        "    @staticmethod\n",
        "    def _pool_roi(feature_map, roi, pooled_height, pooled_width):\n",
        "        \"\"\" Applies ROI pooling to a single image and a single region of interest\n",
        "        \"\"\"\n",
        "\n",
        "        # Compute the region of interest        \n",
        "        feature_map_height = int(feature_map.shape[0])\n",
        "        feature_map_width  = int(feature_map.shape[1])\n",
        "        \n",
        "        h_start = tf.cast(feature_map_height * roi[0], 'int32')\n",
        "        w_start = tf.cast(feature_map_width  * roi[1], 'int32')\n",
        "        h_end   = tf.cast(feature_map_height * roi[2], 'int32')\n",
        "        w_end   = tf.cast(feature_map_width  * roi[3], 'int32')\n",
        "        \n",
        "        region = feature_map[h_start:h_end, w_start:w_end, :]\n",
        "        \n",
        "        # Divide the region into non overlapping areas\n",
        "        region_height = h_end - h_start\n",
        "        region_width  = w_end - w_start\n",
        "        h_step = tf.cast( region_height / pooled_height, 'int32')\n",
        "        w_step = tf.cast( region_width  / pooled_width , 'int32')\n",
        "        \n",
        "        areas = [[(\n",
        "                    i*h_step, \n",
        "                    j*w_step, \n",
        "                    (i+1)*h_step if i+1 < pooled_height else region_height, \n",
        "                    (j+1)*w_step if j+1 < pooled_width else region_width\n",
        "                   ) \n",
        "                   for j in range(pooled_width)] \n",
        "                  for i in range(pooled_height)]\n",
        "        \n",
        "        # take the maximum of each area and stack the result\n",
        "        def pool_area(x): \n",
        "          return tf.math.reduce_max(region[x[0]:x[2], x[1]:x[3], :], axis=[0,1])\n",
        "        \n",
        "        pooled_features = tf.stack([[pool_area(x) for x in row] for row in areas])\n",
        "        return pooled_features"
      ],
      "execution_count": 0,
      "outputs": []
    },
    {
      "cell_type": "code",
      "metadata": {
        "id": "EXJ_S5aiDN1I",
        "colab_type": "code",
        "colab": {
          "base_uri": "https://localhost:8080/",
          "height": 119
        },
        "outputId": "cc4e4c0d-e0f0-4e16-f2d8-e1cd9b23e30d"
      },
      "source": [
        "import matplotlib\n",
        "from sklearn.preprocessing import LabelBinarizer\n",
        "from sklearn.metrics import classification_report\n",
        "from tensorflow.keras.preprocessing.image import ImageDataGenerator\n",
        "from tensorflow.keras.optimizers import SGD\n",
        "from tensorflow.keras.datasets import cifar10\n",
        "import tensorflow.keras.backend as K\n",
        "import matplotlib.pyplot as plt\n",
        "import numpy as np\n",
        "from tensorflow.keras.models import load_model\n",
        "\n",
        "batch_size=32\n",
        "\n",
        "print(\"[INFO] loading CIFAR-10 data...\")\n",
        "((trainX, trainY), (testX, testY)) = cifar10.load_data()\n",
        "print ('classes:',np.unique(trainY))\n",
        "trainX = trainX.astype(\"float\")\n",
        "testX = testX.astype(\"float\")\n",
        "\n",
        "mean = np.mean(trainX, axis=0)\n",
        "trainX -= mean\n",
        "testX -= mean\n",
        "\n",
        "\n",
        "lb = LabelBinarizer()\n",
        "trainY = lb.fit_transform(trainY)\n",
        "testY = lb.transform(testY)\n",
        "\n",
        "# construct the image generator for data augmentation\n",
        "aug = ImageDataGenerator()\n",
        "\n",
        "print(\"[INFO] compiling model...\")\n",
        "opt = SGD(lr=0.01, momentum=0.9)\n",
        "\n",
        "print ((trainX.shape[0]// batch_size))"
      ],
      "execution_count": 2,
      "outputs": [
        {
          "output_type": "stream",
          "text": [
            "[INFO] loading CIFAR-10 data...\n",
            "Downloading data from https://www.cs.toronto.edu/~kriz/cifar-10-python.tar.gz\n",
            "170500096/170498071 [==============================] - 11s 0us/step\n",
            "classes: [0 1 2 3 4 5 6 7 8 9]\n",
            "[INFO] compiling model...\n",
            "1562\n"
          ],
          "name": "stdout"
        }
      ]
    },
    {
      "cell_type": "code",
      "metadata": {
        "id": "N2kz8BQwGyV-",
        "colab_type": "code",
        "colab": {
          "base_uri": "https://localhost:8080/",
          "height": 34
        },
        "outputId": "94e8ef85-3e2d-4f58-fda3-d51e106c4347"
      },
      "source": [
        "print (np.unique(trainY,return_counts=True))"
      ],
      "execution_count": 3,
      "outputs": [
        {
          "output_type": "stream",
          "text": [
            "(array([0, 1]), array([450000,  50000]))\n"
          ],
          "name": "stdout"
        }
      ]
    },
    {
      "cell_type": "code",
      "metadata": {
        "id": "WU3xskyhEzZh",
        "colab_type": "code",
        "colab": {}
      },
      "source": [
        "roi=tf.random.normal(\n",
        "    shape=(batch_size,2,4),\n",
        "    mean=0.1,\n",
        "    stddev=1.0,\n",
        "    dtype=tf.dtypes.float32,\n",
        "    seed=None,\n",
        "    name='roi'\n",
        ")"
      ],
      "execution_count": 0,
      "outputs": []
    },
    {
      "cell_type": "code",
      "metadata": {
        "id": "KzjBm76nDbbe",
        "colab_type": "code",
        "colab": {
          "base_uri": "https://localhost:8080/",
          "height": 374
        },
        "outputId": "2a7eb97e-d300-4fde-ead4-0aa4222cfa46"
      },
      "source": [
        "from tensorflow.keras.layers import *\n",
        "from tensorflow.keras.models import *\n",
        "inputs=Input(shape=(32,32,3))\n",
        "x = Conv2D(10, (3, 3), padding='same', name='conv_final',activation='relu')(inputs)\n",
        "x=ROIPoolingLayer(pooled_height=2, pooled_width=2)((x,roi))\n",
        "#x=Conv3D(10,(1,1,1),padding='same',activation='relu')(x)\n",
        "x=GlobalAveragePooling3D()(x)\n",
        "x=Activation('softmax')(x)\n",
        "model=Model(inputs,x)\n",
        "model.summary()\n",
        "def identity(x,y):\n",
        "  return x\n",
        "model.compile(optimizer='sgd',loss='binary_crossentropy')"
      ],
      "execution_count": 30,
      "outputs": [
        {
          "output_type": "stream",
          "text": [
            "Model: \"model_11\"\n",
            "__________________________________________________________________________________________________\n",
            "Layer (type)                    Output Shape         Param #     Connected to                     \n",
            "==================================================================================================\n",
            "input_15 (InputLayer)           [(None, 32, 32, 3)]  0                                            \n",
            "__________________________________________________________________________________________________\n",
            "conv_final (Conv2D)             (None, 32, 32, 10)   280         input_15[0][0]                   \n",
            "__________________________________________________________________________________________________\n",
            "tf_op_layer_roi_1 (TensorFlowOp [(32, 2, 4)]         0                                            \n",
            "__________________________________________________________________________________________________\n",
            "roi_pooling_layer_8 (ROIPooling (None, 2, 2, 2, 10)  0           conv_final[0][0]                 \n",
            "                                                                 tf_op_layer_roi_1[0][0]          \n",
            "__________________________________________________________________________________________________\n",
            "global_average_pooling3d_9 (Glo (None, 10)           0           roi_pooling_layer_8[0][0]        \n",
            "__________________________________________________________________________________________________\n",
            "activation_11 (Activation)      (None, 10)           0           global_average_pooling3d_9[0][0] \n",
            "==================================================================================================\n",
            "Total params: 280\n",
            "Trainable params: 280\n",
            "Non-trainable params: 0\n",
            "__________________________________________________________________________________________________\n"
          ],
          "name": "stdout"
        }
      ]
    },
    {
      "cell_type": "code",
      "metadata": {
        "id": "vrt6SlKdIhxc",
        "colab_type": "code",
        "colab": {
          "base_uri": "https://localhost:8080/",
          "height": 34
        },
        "outputId": "4b29272d-17ae-4e14-ea12-8a8eba858619"
      },
      "source": [
        "print (trainY.shape)"
      ],
      "execution_count": 6,
      "outputs": [
        {
          "output_type": "stream",
          "text": [
            "(50000, 10)\n"
          ],
          "name": "stdout"
        }
      ]
    },
    {
      "cell_type": "code",
      "metadata": {
        "id": "U3ooqKUaHx6p",
        "colab_type": "code",
        "colab": {
          "base_uri": "https://localhost:8080/",
          "height": 340
        },
        "outputId": "043c8f85-848b-4824-f323-4efe2dc9e3af"
      },
      "source": [
        "model.fit(x=trainX,y=trainY,batch_size=batch_size,epochs=10)"
      ],
      "execution_count": 31,
      "outputs": [
        {
          "output_type": "stream",
          "text": [
            "Epoch 1/10\n",
            " 3776/50000 [=>............................] - ETA: 5:47 - loss: 13.7892"
          ],
          "name": "stdout"
        },
        {
          "output_type": "error",
          "ename": "KeyboardInterrupt",
          "evalue": "ignored",
          "traceback": [
            "\u001b[0;31m---------------------------------------------------------------------------\u001b[0m",
            "\u001b[0;31mKeyboardInterrupt\u001b[0m                         Traceback (most recent call last)",
            "\u001b[0;32m/usr/local/lib/python3.6/dist-packages/tensorflow/python/keras/api/_v1/keras/models/__init__.py\u001b[0m in \u001b[0;36m<module>\u001b[0;34m()\u001b[0m\n\u001b[0;32m----> 1\u001b[0;31m \u001b[0mmodel\u001b[0m\u001b[0;34m.\u001b[0m\u001b[0mfit\u001b[0m\u001b[0;34m(\u001b[0m\u001b[0mx\u001b[0m\u001b[0;34m=\u001b[0m\u001b[0mtrainX\u001b[0m\u001b[0;34m,\u001b[0m\u001b[0my\u001b[0m\u001b[0;34m=\u001b[0m\u001b[0mtrainY\u001b[0m\u001b[0;34m,\u001b[0m\u001b[0mbatch_size\u001b[0m\u001b[0;34m=\u001b[0m\u001b[0mbatch_size\u001b[0m\u001b[0;34m,\u001b[0m\u001b[0mepochs\u001b[0m\u001b[0;34m=\u001b[0m\u001b[0;36m10\u001b[0m\u001b[0;34m)\u001b[0m\u001b[0;34m\u001b[0m\u001b[0;34m\u001b[0m\u001b[0m\n\u001b[0m",
            "\u001b[0;32m/usr/local/lib/python3.6/dist-packages/tensorflow/python/keras/engine/training.py\u001b[0m in \u001b[0;36mfit\u001b[0;34m(self, x, y, batch_size, epochs, verbose, callbacks, validation_split, validation_data, shuffle, class_weight, sample_weight, initial_epoch, steps_per_epoch, validation_steps, validation_freq, max_queue_size, workers, use_multiprocessing, **kwargs)\u001b[0m\n\u001b[1;32m    778\u001b[0m           \u001b[0mvalidation_steps\u001b[0m\u001b[0;34m=\u001b[0m\u001b[0mvalidation_steps\u001b[0m\u001b[0;34m,\u001b[0m\u001b[0;34m\u001b[0m\u001b[0;34m\u001b[0m\u001b[0m\n\u001b[1;32m    779\u001b[0m           \u001b[0mvalidation_freq\u001b[0m\u001b[0;34m=\u001b[0m\u001b[0mvalidation_freq\u001b[0m\u001b[0;34m,\u001b[0m\u001b[0;34m\u001b[0m\u001b[0;34m\u001b[0m\u001b[0m\n\u001b[0;32m--> 780\u001b[0;31m           steps_name='steps_per_epoch')\n\u001b[0m\u001b[1;32m    781\u001b[0m \u001b[0;34m\u001b[0m\u001b[0m\n\u001b[1;32m    782\u001b[0m   def evaluate(self,\n",
            "\u001b[0;32m/usr/local/lib/python3.6/dist-packages/tensorflow/python/keras/engine/training_arrays.py\u001b[0m in \u001b[0;36mmodel_iteration\u001b[0;34m(model, inputs, targets, sample_weights, batch_size, epochs, verbose, callbacks, val_inputs, val_targets, val_sample_weights, shuffle, initial_epoch, steps_per_epoch, validation_steps, validation_freq, mode, validation_in_fit, prepared_feed_values_from_dataset, steps_name, **kwargs)\u001b[0m\n\u001b[1;32m    361\u001b[0m \u001b[0;34m\u001b[0m\u001b[0m\n\u001b[1;32m    362\u001b[0m         \u001b[0;31m# Get outputs.\u001b[0m\u001b[0;34m\u001b[0m\u001b[0;34m\u001b[0m\u001b[0;34m\u001b[0m\u001b[0m\n\u001b[0;32m--> 363\u001b[0;31m         \u001b[0mbatch_outs\u001b[0m \u001b[0;34m=\u001b[0m \u001b[0mf\u001b[0m\u001b[0;34m(\u001b[0m\u001b[0mins_batch\u001b[0m\u001b[0;34m)\u001b[0m\u001b[0;34m\u001b[0m\u001b[0;34m\u001b[0m\u001b[0m\n\u001b[0m\u001b[1;32m    364\u001b[0m         \u001b[0;32mif\u001b[0m \u001b[0;32mnot\u001b[0m \u001b[0misinstance\u001b[0m\u001b[0;34m(\u001b[0m\u001b[0mbatch_outs\u001b[0m\u001b[0;34m,\u001b[0m \u001b[0mlist\u001b[0m\u001b[0;34m)\u001b[0m\u001b[0;34m:\u001b[0m\u001b[0;34m\u001b[0m\u001b[0;34m\u001b[0m\u001b[0m\n\u001b[1;32m    365\u001b[0m           \u001b[0mbatch_outs\u001b[0m \u001b[0;34m=\u001b[0m \u001b[0;34m[\u001b[0m\u001b[0mbatch_outs\u001b[0m\u001b[0;34m]\u001b[0m\u001b[0;34m\u001b[0m\u001b[0;34m\u001b[0m\u001b[0m\n",
            "\u001b[0;32m/usr/local/lib/python3.6/dist-packages/tensorflow/python/keras/backend.py\u001b[0m in \u001b[0;36m__call__\u001b[0;34m(self, inputs)\u001b[0m\n\u001b[1;32m   3290\u001b[0m \u001b[0;34m\u001b[0m\u001b[0m\n\u001b[1;32m   3291\u001b[0m     fetched = self._callable_fn(*array_vals,\n\u001b[0;32m-> 3292\u001b[0;31m                                 run_metadata=self.run_metadata)\n\u001b[0m\u001b[1;32m   3293\u001b[0m     \u001b[0mself\u001b[0m\u001b[0;34m.\u001b[0m\u001b[0m_call_fetch_callbacks\u001b[0m\u001b[0;34m(\u001b[0m\u001b[0mfetched\u001b[0m\u001b[0;34m[\u001b[0m\u001b[0;34m-\u001b[0m\u001b[0mlen\u001b[0m\u001b[0;34m(\u001b[0m\u001b[0mself\u001b[0m\u001b[0;34m.\u001b[0m\u001b[0m_fetches\u001b[0m\u001b[0;34m)\u001b[0m\u001b[0;34m:\u001b[0m\u001b[0;34m]\u001b[0m\u001b[0;34m)\u001b[0m\u001b[0;34m\u001b[0m\u001b[0;34m\u001b[0m\u001b[0m\n\u001b[1;32m   3294\u001b[0m     output_structure = nest.pack_sequence_as(\n",
            "\u001b[0;32m/usr/local/lib/python3.6/dist-packages/tensorflow/python/client/session.py\u001b[0m in \u001b[0;36m__call__\u001b[0;34m(self, *args, **kwargs)\u001b[0m\n\u001b[1;32m   1456\u001b[0m         ret = tf_session.TF_SessionRunCallable(self._session._session,\n\u001b[1;32m   1457\u001b[0m                                                \u001b[0mself\u001b[0m\u001b[0;34m.\u001b[0m\u001b[0m_handle\u001b[0m\u001b[0;34m,\u001b[0m \u001b[0margs\u001b[0m\u001b[0;34m,\u001b[0m\u001b[0;34m\u001b[0m\u001b[0;34m\u001b[0m\u001b[0m\n\u001b[0;32m-> 1458\u001b[0;31m                                                run_metadata_ptr)\n\u001b[0m\u001b[1;32m   1459\u001b[0m         \u001b[0;32mif\u001b[0m \u001b[0mrun_metadata\u001b[0m\u001b[0;34m:\u001b[0m\u001b[0;34m\u001b[0m\u001b[0;34m\u001b[0m\u001b[0m\n\u001b[1;32m   1460\u001b[0m           \u001b[0mproto_data\u001b[0m \u001b[0;34m=\u001b[0m \u001b[0mtf_session\u001b[0m\u001b[0;34m.\u001b[0m\u001b[0mTF_GetBuffer\u001b[0m\u001b[0;34m(\u001b[0m\u001b[0mrun_metadata_ptr\u001b[0m\u001b[0;34m)\u001b[0m\u001b[0;34m\u001b[0m\u001b[0;34m\u001b[0m\u001b[0m\n",
            "\u001b[0;31mKeyboardInterrupt\u001b[0m: "
          ]
        }
      ]
    }
  ]
}