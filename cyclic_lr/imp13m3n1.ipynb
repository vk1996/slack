{
  "nbformat": 4,
  "nbformat_minor": 0,
  "metadata": {
    "colab": {
      "name": "cyclicLR_implementation.ipynb",
      "version": "0.3.2",
      "provenance": [],
      "collapsed_sections": []
    },
    "kernelspec": {
      "name": "python3",
      "display_name": "Python 3"
    },
    "accelerator": "GPU"
  },
  "cells": [
    {
      "cell_type": "markdown",
      "metadata": {
        "id": "3YS2olisi60W",
        "colab_type": "text"
      },
      "source": [
        "This notebook is a implementation of getting started with cyclicLR. The model and pipelines are from \n",
        "https://www.pyimagesearch.com/2019/07/29/cyclical-learning-rates-with-keras-and-deep-learning/ .\n",
        "\n",
        "I only created a wrapper to get started with cyclicLR. To know what cyclicLR check out my other notebbok\n",
        "in this repo. To implement toy dataset with cyclicLR continue here and run all."
      ]
    },
    {
      "cell_type": "code",
      "metadata": {
        "id": "LT-OwNxThvcU",
        "colab_type": "code",
        "colab": {}
      },
      "source": [
        "from tensorflow.keras.callbacks import Callback\n",
        "from tensorflow.keras import backend as K\n",
        "import numpy as np\n",
        "\n",
        "\n",
        "class CyclicLR(Callback):\n",
        "    \"\"\"This callback implements a cyclical learning rate policy (CLR).\n",
        "    The method cycles the learning rate between two boundaries with\n",
        "    some constant frequency.\n",
        "    # Arguments\n",
        "        base_lr: initial learning rate which is the\n",
        "            lower boundary in the cycle.\n",
        "        max_lr: upper boundary in the cycle. Functionally,\n",
        "            it defines the cycle amplitude (max_lr - base_lr).\n",
        "            The lr at any cycle is the sum of base_lr\n",
        "            and some scaling of the amplitude; therefore\n",
        "            max_lr may not actually be reached depending on\n",
        "            scaling function.\n",
        "        step_size: number of training iterations per\n",
        "            half cycle. Authors suggest setting step_size\n",
        "            2-8 x training iterations in epoch.\"\"\"\n",
        "\n",
        "    def __init__(\n",
        "            self,\n",
        "            base_lr=0.001,\n",
        "            max_lr=0.006,\n",
        "            step_size=2000.,\n",
        "            mode='triangular',\n",
        "            gamma=1.,\n",
        "            scale_fn=None,\n",
        "            scale_mode='cycle'):\n",
        "        super(CyclicLR, self).__init__()\n",
        "\n",
        "        if mode not in ['triangular', 'triangular2',\n",
        "                        'exp_range']:\n",
        "            raise KeyError(\"mode must be one of 'triangular', \"\n",
        "                           \"'triangular2', or 'exp_range'\")\n",
        "        self.base_lr = base_lr\n",
        "        self.max_lr = max_lr\n",
        "        self.step_size = step_size\n",
        "        self.mode = mode\n",
        "        self.gamma = gamma\n",
        "        if scale_fn is None:\n",
        "            if self.mode == 'triangular':\n",
        "                self.scale_fn = lambda x: 1.\n",
        "                self.scale_mode = 'cycle'\n",
        "            elif self.mode == 'triangular2':\n",
        "                self.scale_fn = lambda x: 1 / (2.**(x - 1))\n",
        "                self.scale_mode = 'cycle'\n",
        "            elif self.mode == 'exp_range':\n",
        "                self.scale_fn = lambda x: gamma ** x\n",
        "                self.scale_mode = 'iterations'\n",
        "        else:\n",
        "            self.scale_fn = scale_fn\n",
        "            self.scale_mode = scale_mode\n",
        "        self.clr_iterations = 0.\n",
        "        self.trn_iterations = 0.\n",
        "        self.history = {}\n",
        "\n",
        "        self._reset()\n",
        "\n",
        "    def _reset(self, new_base_lr=None, new_max_lr=None,\n",
        "               new_step_size=None):\n",
        "        \"\"\"Resets cycle iterations.\n",
        "        Optional boundary/step size adjustment.\n",
        "        \"\"\"\n",
        "        if new_base_lr is not None:\n",
        "            self.base_lr = new_base_lr\n",
        "        if new_max_lr is not None:\n",
        "            self.max_lr = new_max_lr\n",
        "        if new_step_size is not None:\n",
        "            self.step_size = new_step_size\n",
        "        self.clr_iterations = 0.\n",
        "\n",
        "    def clr(self):\n",
        "        cycle = np.floor(1 + self.clr_iterations / (2 * self.step_size))\n",
        "        x = np.abs(self.clr_iterations / self.step_size - 2 * cycle + 1)\n",
        "        if self.scale_mode == 'cycle':\n",
        "            return self.base_lr + (self.max_lr - self.base_lr) * \\\n",
        "                np.maximum(0, (1 - x)) * self.scale_fn(cycle)\n",
        "        else:\n",
        "            return self.base_lr + (self.max_lr - self.base_lr) * \\\n",
        "                np.maximum(0, (1 - x)) * self.scale_fn(self.clr_iterations)\n",
        "\n",
        "    def on_train_begin(self, logs={}):\n",
        "        logs = logs or {}\n",
        "\n",
        "        if self.clr_iterations == 0:\n",
        "            K.set_value(self.model.optimizer.lr, self.base_lr)\n",
        "        else:\n",
        "            K.set_value(self.model.optimizer.lr, self.clr())\n",
        "\n",
        "    def on_batch_end(self, epoch, logs=None):\n",
        "\n",
        "        logs = logs or {}\n",
        "        self.trn_iterations += 1\n",
        "        self.clr_iterations += 1\n",
        "        K.set_value(self.model.optimizer.lr, self.clr())\n",
        "\n",
        "        self.history.setdefault(\n",
        "            'lr', []).append(\n",
        "            K.get_value(\n",
        "                self.model.optimizer.lr))\n",
        "        self.history.setdefault('iterations', []).append(self.trn_iterations)\n",
        "\n",
        "        for k, v in logs.items():\n",
        "            self.history.setdefault(k, []).append(v)\n",
        "\n",
        "    def on_epoch_end(self, epoch, logs=None):\n",
        "        logs = logs or {}\n",
        "        logs['lr'] = K.get_value(self.model.optimizer.lr)\n",
        "\n",
        "CLASSES = [\"airplane\", \"automobile\", \"bird\", \"cat\", \"deer\", \"dog\",\n",
        "\t\"frog\", \"horse\", \"ship\", \"truck\"]\n",
        "\n",
        "# define the minimum learning rate, maximum learning rate, batch size,\n",
        "# step size, CLR method, and number of epochs\n",
        "MIN_LR = 1e-7\n",
        "MAX_LR = 1e-2\n",
        "BATCH_SIZE = 64\n",
        "STEP_SIZE = 8\n",
        "CLR_METHOD = \"triangular\"\n",
        "NUM_EPOCHS = 24"
      ],
      "execution_count": 0,
      "outputs": []
    },
    {
      "cell_type": "code",
      "metadata": {
        "id": "ACiQ0FTTCqqV",
        "colab_type": "code",
        "colab": {
          "base_uri": "https://localhost:8080/",
          "height": 306
        },
        "outputId": "7ca70a00-4fbe-4a55-eeac-eb696fbcac1e"
      },
      "source": [
        "\n",
        "import matplotlib\n",
        "from sklearn.preprocessing import LabelBinarizer\n",
        "from sklearn.metrics import classification_report\n",
        "from tensorflow.keras.preprocessing.image import ImageDataGenerator\n",
        "from tensorflow.keras.optimizers import SGD\n",
        "from tensorflow.keras.datasets import cifar10\n",
        "import tensorflow.keras.backend as K\n",
        "import matplotlib.pyplot as plt\n",
        "import numpy as np\n",
        "from tensorflow.keras.models import load_model\n",
        "\n",
        "\n",
        "print(\"[INFO] loading CIFAR-10 data...\")\n",
        "((trainX, trainY), (testX, testY)) = cifar10.load_data()\n",
        "trainX = trainX.astype(\"float\")\n",
        "testX = testX.astype(\"float\")\n",
        "\n",
        "mean = np.mean(trainX, axis=0)\n",
        "trainX -= mean\n",
        "testX -= mean\n",
        "\n",
        "\n",
        "lb = LabelBinarizer()\n",
        "trainY = lb.fit_transform(trainY)\n",
        "testY = lb.transform(testY)\n",
        "\n",
        "# construct the image generator for data augmentation\n",
        "aug = ImageDataGenerator()\n",
        "\n",
        "print(\"[INFO] compiling model...\")\n",
        "opt = SGD(lr=MIN_LR, momentum=0.9)\n",
        "model=load_model('cifar.h5')\n",
        "####  LR TRACKERRRR ##########\n",
        "def lrtracker(true,pred):\n",
        "\treturn model.optimizer.lr\n",
        "model.compile(loss=\"categorical_crossentropy\", optimizer=opt,\n",
        "\tmetrics=[\"accuracy\",lrtracker])\n",
        "\n",
        "print(\"[INFO] using '{}' method\".format(CLR_METHOD))\n",
        "clr = CyclicLR(\n",
        "\tmode=CLR_METHOD,\n",
        "\tbase_lr=MIN_LR,\n",
        "\tmax_lr=MAX_LR,\n",
        "\tstep_size= STEP_SIZE * (trainX.shape[0] // BATCH_SIZE))\n"
      ],
      "execution_count": 2,
      "outputs": [
        {
          "output_type": "stream",
          "text": [
            "[INFO] loading CIFAR-10 data...\n"
          ],
          "name": "stdout"
        },
        {
          "output_type": "stream",
          "text": [
            "WARNING: Logging before flag parsing goes to stderr.\n",
            "W0801 09:40:09.505534 140204777727872 deprecation.py:506] From /usr/local/lib/python3.6/dist-packages/tensorflow/python/ops/init_ops.py:97: calling GlorotUniform.__init__ (from tensorflow.python.ops.init_ops) with dtype is deprecated and will be removed in a future version.\n",
            "Instructions for updating:\n",
            "Call initializer instance with the dtype argument instead of passing it to the constructor\n",
            "W0801 09:40:09.508143 140204777727872 deprecation.py:506] From /usr/local/lib/python3.6/dist-packages/tensorflow/python/ops/init_ops.py:1251: calling VarianceScaling.__init__ (from tensorflow.python.ops.init_ops) with dtype is deprecated and will be removed in a future version.\n",
            "Instructions for updating:\n",
            "Call initializer instance with the dtype argument instead of passing it to the constructor\n",
            "W0801 09:40:09.509750 140204777727872 deprecation.py:506] From /usr/local/lib/python3.6/dist-packages/tensorflow/python/ops/init_ops.py:97: calling Zeros.__init__ (from tensorflow.python.ops.init_ops) with dtype is deprecated and will be removed in a future version.\n",
            "Instructions for updating:\n",
            "Call initializer instance with the dtype argument instead of passing it to the constructor\n",
            "W0801 09:40:09.518638 140204777727872 deprecation.py:506] From /usr/local/lib/python3.6/dist-packages/tensorflow/python/ops/init_ops.py:97: calling Ones.__init__ (from tensorflow.python.ops.init_ops) with dtype is deprecated and will be removed in a future version.\n",
            "Instructions for updating:\n",
            "Call initializer instance with the dtype argument instead of passing it to the constructor\n"
          ],
          "name": "stderr"
        },
        {
          "output_type": "stream",
          "text": [
            "[INFO] compiling model...\n",
            "[INFO] using 'triangular' method\n"
          ],
          "name": "stdout"
        }
      ]
    },
    {
      "cell_type": "code",
      "metadata": {
        "id": "oOnXxfeingy9",
        "colab_type": "code",
        "outputId": "f811ff69-8242-423e-804b-904faedea677",
        "colab": {
          "base_uri": "https://localhost:8080/",
          "height": 860
        }
      },
      "source": [
        "# train the network\n",
        "print(\"[INFO] training network...\")\n",
        "H = model.fit_generator(\n",
        "\taug.flow(trainX, trainY, batch_size=BATCH_SIZE),\n",
        "\tvalidation_data=(testX, testY),\n",
        "\tsteps_per_epoch=trainX.shape[0] // BATCH_SIZE,\n",
        "\tepochs=NUM_EPOCHS,\n",
        "\tcallbacks=[clr],\n",
        "\tverbose=1)\n"
      ],
      "execution_count": 3,
      "outputs": [
        {
          "output_type": "stream",
          "text": [
            "[INFO] training network...\n",
            "Epoch 1/24\n",
            "781/781 [==============================] - 50s 64ms/step - loss: 1.9573 - acc: 0.2883 - lrtracker: 6.2429e-04 - val_loss: 1.7932 - val_acc: 0.3687 - val_lrtracker: 0.0013\n",
            "Epoch 2/24\n",
            "781/781 [==============================] - 43s 55ms/step - loss: 1.3358 - acc: 0.5150 - lrtracker: 0.0019 - val_loss: 1.1711 - val_acc: 0.5781 - val_lrtracker: 0.0025\n",
            "Epoch 3/24\n",
            "781/781 [==============================] - 43s 55ms/step - loss: 1.0659 - acc: 0.6185 - lrtracker: 0.0031 - val_loss: 1.1306 - val_acc: 0.6095 - val_lrtracker: 0.0038\n",
            "Epoch 4/24\n",
            "781/781 [==============================] - 43s 55ms/step - loss: 0.8964 - acc: 0.6832 - lrtracker: 0.0044 - val_loss: 1.1783 - val_acc: 0.5786 - val_lrtracker: 0.0050\n",
            "Epoch 5/24\n",
            "781/781 [==============================] - 43s 55ms/step - loss: 0.7633 - acc: 0.7344 - lrtracker: 0.0056 - val_loss: 0.8541 - val_acc: 0.7058 - val_lrtracker: 0.0063\n",
            "Epoch 6/24\n",
            "781/781 [==============================] - 43s 55ms/step - loss: 0.6552 - acc: 0.7716 - lrtracker: 0.0069 - val_loss: 0.8732 - val_acc: 0.7257 - val_lrtracker: 0.0075\n",
            "Epoch 7/24\n",
            "781/781 [==============================] - 43s 55ms/step - loss: 0.5769 - acc: 0.8010 - lrtracker: 0.0081 - val_loss: 0.9113 - val_acc: 0.7039 - val_lrtracker: 0.0088\n",
            "Epoch 8/24\n",
            "781/781 [==============================] - 43s 55ms/step - loss: 0.5079 - acc: 0.8262 - lrtracker: 0.0094 - val_loss: 0.8146 - val_acc: 0.7425 - val_lrtracker: 0.0100\n",
            "Epoch 9/24\n",
            "781/781 [==============================] - 43s 55ms/step - loss: 0.4318 - acc: 0.8530 - lrtracker: 0.0094 - val_loss: 0.8863 - val_acc: 0.7356 - val_lrtracker: 0.0088\n",
            "Epoch 10/24\n",
            "781/781 [==============================] - 43s 55ms/step - loss: 0.3416 - acc: 0.8831 - lrtracker: 0.0081 - val_loss: 0.6237 - val_acc: 0.7945 - val_lrtracker: 0.0075\n",
            "Epoch 11/24\n",
            "781/781 [==============================] - 43s 55ms/step - loss: 0.2600 - acc: 0.9098 - lrtracker: 0.0069 - val_loss: 0.5203 - val_acc: 0.8281 - val_lrtracker: 0.0063\n",
            "Epoch 12/24\n",
            "781/781 [==============================] - 43s 55ms/step - loss: 0.1883 - acc: 0.9363 - lrtracker: 0.0056 - val_loss: 0.8807 - val_acc: 0.7705 - val_lrtracker: 0.0050\n",
            "Epoch 13/24\n",
            "781/781 [==============================] - 43s 55ms/step - loss: 0.1214 - acc: 0.9609 - lrtracker: 0.0044 - val_loss: 0.5487 - val_acc: 0.8360 - val_lrtracker: 0.0038\n",
            "Epoch 14/24\n",
            "781/781 [==============================] - 43s 55ms/step - loss: 0.0746 - acc: 0.9779 - lrtracker: 0.0031 - val_loss: 0.5234 - val_acc: 0.8485 - val_lrtracker: 0.0025\n",
            "Epoch 15/24\n",
            "781/781 [==============================] - 43s 55ms/step - loss: 0.0450 - acc: 0.9895 - lrtracker: 0.0019 - val_loss: 0.4823 - val_acc: 0.8636 - val_lrtracker: 0.0013\n",
            "Epoch 16/24\n",
            "781/781 [==============================] - 43s 55ms/step - loss: 0.0291 - acc: 0.9949 - lrtracker: 6.2589e-04 - val_loss: 0.4713 - val_acc: 0.8669 - val_lrtracker: 1.0000e-07\n",
            "Epoch 17/24\n",
            "781/781 [==============================] - 43s 55ms/step - loss: 0.0253 - acc: 0.9962 - lrtracker: 6.2429e-04 - val_loss: 0.4915 - val_acc: 0.8610 - val_lrtracker: 0.0013\n",
            "Epoch 18/24\n",
            "781/781 [==============================] - 43s 55ms/step - loss: 0.0273 - acc: 0.9949 - lrtracker: 0.0019 - val_loss: 0.5381 - val_acc: 0.8544 - val_lrtracker: 0.0025\n",
            "Epoch 19/24\n",
            "781/781 [==============================] - 43s 55ms/step - loss: 0.0314 - acc: 0.9930 - lrtracker: 0.0031 - val_loss: 0.6211 - val_acc: 0.8369 - val_lrtracker: 0.0038\n",
            "Epoch 20/24\n",
            "781/781 [==============================] - 43s 55ms/step - loss: 0.0518 - acc: 0.9844 - lrtracker: 0.0044 - val_loss: 0.7308 - val_acc: 0.8118 - val_lrtracker: 0.0050\n",
            "Epoch 21/24\n",
            "781/781 [==============================] - 43s 55ms/step - loss: 0.1237 - acc: 0.9574 - lrtracker: 0.0056 - val_loss: 1.1577 - val_acc: 0.7655 - val_lrtracker: 0.0063\n",
            "Epoch 22/24\n",
            "781/781 [==============================] - 43s 55ms/step - loss: 0.1673 - acc: 0.9414 - lrtracker: 0.0069 - val_loss: 2.3339 - val_acc: 0.6508 - val_lrtracker: 0.0075\n",
            "Epoch 23/24\n",
            "781/781 [==============================] - 43s 55ms/step - loss: 0.1868 - acc: 0.9352 - lrtracker: 0.0081 - val_loss: 1.3802 - val_acc: 0.7018 - val_lrtracker: 0.0088\n",
            "Epoch 24/24\n",
            "781/781 [==============================] - 43s 55ms/step - loss: 0.1728 - acc: 0.9389 - lrtracker: 0.0094 - val_loss: 1.4977 - val_acc: 0.7416 - val_lrtracker: 0.0100\n"
          ],
          "name": "stdout"
        }
      ]
    },
    {
      "cell_type": "code",
      "metadata": {
        "id": "oQDVDJqH_ubM",
        "colab_type": "code",
        "colab": {
          "base_uri": "https://localhost:8080/",
          "height": 299
        },
        "outputId": "075e260a-4190-40c0-960a-b932b0e70fd1"
      },
      "source": [
        "plt.style.use(\"ggplot\")\n",
        "\n",
        "# plot the learning rate history\n",
        "N = np.arange(0, len(clr.history[\"lr\"]))\n",
        "plt.figure()\n",
        "plt.plot(N, clr.history[\"lr\"])\n",
        "plt.title(\"Cyclical Learning Rate (CLR)\")\n",
        "plt.xlabel(\"Training Iterations\")\n",
        "plt.ylabel(\"Learning Rate\")\n",
        "plt.savefig('lrhistory1.png')"
      ],
      "execution_count": 4,
      "outputs": [
        {
          "output_type": "display_data",
          "data": {
            "image/png": "[encoded data removed]",
            "text/plain": [
              "<Figure size 432x288 with 1 Axes>"
            ]
          },
          "metadata": {
            "tags": []
          }
        }
      ]
    }
  ]
}