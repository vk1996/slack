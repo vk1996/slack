{
  "nbformat": 4,
  "nbformat_minor": 0,
  "metadata": {
    "colab": {
      "name": "roipooling.ipynb",
      "version": "0.3.2",
      "provenance": [],
      "collapsed_sections": []
    },
    "kernelspec": {
      "name": "python3",
      "display_name": "Python 3"
    },
    "accelerator": "GPU"
  },
  "cells": [
    {
      "cell_type": "code",
      "metadata": {
        "id": "RCDpiO1KC27A",
        "colab_type": "code",
        "colab": {}
      },
      "source": [
        "import tensorflow as tf\n",
        "from tensorflow.keras.layers import Layer\n",
        "\n",
        "class ROIPoolingLayer(Layer):\n",
        "    \"\"\" Implements Region Of Interest Max Pooling \n",
        "        for channel-first images and relative bounding box coordinates\n",
        "        \n",
        "        # Constructor parameters\n",
        "            pooled_height, pooled_width (int) -- \n",
        "              specify height and width of layer outputs\n",
        "        \n",
        "        Shape of inputs\n",
        "            [(batch_size, pooled_height, pooled_width, n_channels),\n",
        "             (batch_size, num_rois, 4)]\n",
        "           \n",
        "        Shape of output\n",
        "            (batch_size, num_rois, pooled_height, pooled_width, n_channels)\n",
        "    \n",
        "    \"\"\"\n",
        "    def __init__(self, pooled_height, pooled_width, **kwargs):\n",
        "        self.pooled_height = pooled_height\n",
        "        self.pooled_width = pooled_width\n",
        "        \n",
        "        super(ROIPoolingLayer, self).__init__(**kwargs)\n",
        "        \n",
        "    def compute_output_shape(self, input_shape):\n",
        "        \"\"\" Returns the shape of the ROI Layer output\n",
        "        \"\"\"\n",
        "        feature_map_shape, rois_shape = input_shape\n",
        "        assert feature_map_shape[0] == rois_shape[0]\n",
        "        batch_size = feature_map_shape[0]\n",
        "        n_rois = rois_shape[1]\n",
        "        n_channels = feature_map_shape[3]\n",
        "        return (batch_size, n_rois, self.pooled_height, \n",
        "                self.pooled_width, n_channels)\n",
        "\n",
        "    def call(self, x):\n",
        "        \"\"\" Maps the input tensor of the ROI layer to its output\n",
        "        \n",
        "            # Parameters\n",
        "                x[0] -- Convolutional feature map tensor,\n",
        "                        shape (batch_size, pooled_height, pooled_width, n_channels)\n",
        "                x[1] -- Tensor of region of interests from candidate bounding boxes,\n",
        "                        shape (batch_size, num_rois, 4)\n",
        "                        Each region of interest is defined by four relative \n",
        "                        coordinates (x_min, y_min, x_max, y_max) between 0 and 1\n",
        "\n",
        "            # Output\n",
        "                pooled_areas -- Tensor with the pooled region of interest, shape\n",
        "                    (batch_size, num_rois, pooled_height, pooled_width, n_channels)\n",
        "\n",
        "        \"\"\"\n",
        "        def curried_pool_rois(x): \n",
        "          return ROIPoolingLayer._pool_rois(x[0], x[1], \n",
        "                                            self.pooled_height, \n",
        "                                            self.pooled_width)\n",
        "        \n",
        "        pooled_areas = tf.map_fn(curried_pool_rois, x, dtype=tf.float32)\n",
        "\n",
        "        return pooled_areas\n",
        "    \n",
        "    @staticmethod\n",
        "    def _pool_rois(feature_map, rois, pooled_height, pooled_width):\n",
        "        \"\"\" Applies ROI pooling for a single image and varios ROIs\n",
        "        \"\"\"\n",
        "        def curried_pool_roi(roi): \n",
        "          return ROIPoolingLayer._pool_roi(feature_map, roi, \n",
        "                                           pooled_height, pooled_width)\n",
        "        \n",
        "        pooled_areas = tf.map_fn(curried_pool_roi, rois, dtype=tf.float32)\n",
        "        return pooled_areas\n",
        "    \n",
        "    @staticmethod\n",
        "    def _pool_roi(feature_map, roi, pooled_height, pooled_width):\n",
        "        \"\"\" Applies ROI pooling to a single image and a single region of interest\n",
        "        \"\"\"\n",
        "\n",
        "        # Compute the region of interest        \n",
        "        feature_map_height = int(feature_map.shape[0])\n",
        "        feature_map_width  = int(feature_map.shape[1])\n",
        "        \n",
        "        h_start = tf.cast(feature_map_height * roi[0], 'int32')\n",
        "        w_start = tf.cast(feature_map_width  * roi[1], 'int32')\n",
        "        h_end   = tf.cast(feature_map_height * roi[2], 'int32')\n",
        "        w_end   = tf.cast(feature_map_width  * roi[3], 'int32')\n",
        "        \n",
        "        region = feature_map[h_start:h_end, w_start:w_end, :]\n",
        "        \n",
        "        # Divide the region into non overlapping areas\n",
        "        region_height = h_end - h_start\n",
        "        region_width  = w_end - w_start\n",
        "        h_step = tf.cast( region_height / pooled_height, 'int32')\n",
        "        w_step = tf.cast( region_width  / pooled_width , 'int32')\n",
        "        \n",
        "        areas = [[(\n",
        "                    i*h_step, \n",
        "                    j*w_step, \n",
        "                    (i+1)*h_step if i+1 < pooled_height else region_height, \n",
        "                    (j+1)*w_step if j+1 < pooled_width else region_width\n",
        "                   ) \n",
        "                   for j in range(pooled_width)] \n",
        "                  for i in range(pooled_height)]\n",
        "        \n",
        "        # take the maximum of each area and stack the result\n",
        "        def pool_area(x): \n",
        "          return tf.math.reduce_max(region[x[0]:x[2], x[1]:x[3], :], axis=[0,1])\n",
        "        \n",
        "        pooled_features = tf.stack([[pool_area(x) for x in row] for row in areas])\n",
        "        return pooled_features"
      ],
      "execution_count": 0,
      "outputs": []
    },
    {
      "cell_type": "code",
      "metadata": {
        "id": "EXJ_S5aiDN1I",
        "colab_type": "code",
        "colab": {
          "base_uri": "https://localhost:8080/",
          "height": 85
        },
        "outputId": "5a6275d4-6273-42f5-f2ee-de149f4d3474"
      },
      "source": [
        "import matplotlib\n",
        "from sklearn.preprocessing import LabelBinarizer\n",
        "from sklearn.metrics import classification_report\n",
        "from tensorflow.keras.preprocessing.image import ImageDataGenerator\n",
        "from tensorflow.keras.optimizers import SGD\n",
        "from tensorflow.keras.datasets import cifar10\n",
        "import tensorflow.keras.backend as K\n",
        "import matplotlib.pyplot as plt\n",
        "import numpy as np\n",
        "from tensorflow.keras.models import load_model\n",
        "\n",
        "batch_size=10\n",
        "\n",
        "print(\"[INFO] loading CIFAR-10 data...\")\n",
        "((trainX, trainY), (testX, testY)) = cifar10.load_data()\n",
        "print ('classes:',np.unique(trainY))\n",
        "trainX = trainX.astype(\"float\")\n",
        "testX = testX.astype(\"float\")\n",
        "\n",
        "mean = np.mean(trainX, axis=0)\n",
        "trainX -= mean\n",
        "testX -= mean\n",
        "\n",
        "\n",
        "lb = LabelBinarizer()\n",
        "trainY = lb.fit_transform(trainY)\n",
        "testY = lb.transform(testY)\n",
        "\n",
        "# construct the image generator for data augmentation\n",
        "aug = ImageDataGenerator()\n",
        "\n",
        "print(\"[INFO] compiling model...\")\n",
        "opt = SGD(lr=0.01, momentum=0.9)\n",
        "\n",
        "print ((trainX.shape[0]// batch_size))"
      ],
      "execution_count": 35,
      "outputs": [
        {
          "output_type": "stream",
          "text": [
            "[INFO] loading CIFAR-10 data...\n",
            "classes: [0 1 2 3 4 5 6 7 8 9]\n",
            "[INFO] compiling model...\n",
            "5000\n"
          ],
          "name": "stdout"
        }
      ]
    },
    {
      "cell_type": "code",
      "metadata": {
        "id": "N2kz8BQwGyV-",
        "colab_type": "code",
        "colab": {
          "base_uri": "https://localhost:8080/",
          "height": 34
        },
        "outputId": "94e8ef85-3e2d-4f58-fda3-d51e106c4347"
      },
      "source": [
        "print (np.unique(trainY,return_counts=True))"
      ],
      "execution_count": 3,
      "outputs": [
        {
          "output_type": "stream",
          "text": [
            "(array([0, 1]), array([450000,  50000]))\n"
          ],
          "name": "stdout"
        }
      ]
    },
    {
      "cell_type": "code",
      "metadata": {
        "id": "WU3xskyhEzZh",
        "colab_type": "code",
        "colab": {}
      },
      "source": [
        "roi=tf.random.normal(\n",
        "    shape=(batch_size,2,4),\n",
        "    mean=0.1,\n",
        "    stddev=1.0,\n",
        "    dtype=tf.dtypes.float32,\n",
        "    seed=None,\n",
        "    name='roi'\n",
        ")"
      ],
      "execution_count": 0,
      "outputs": []
    },
    {
      "cell_type": "code",
      "metadata": {
        "id": "KzjBm76nDbbe",
        "colab_type": "code",
        "colab": {
          "base_uri": "https://localhost:8080/",
          "height": 374
        },
        "outputId": "f7ebf353-70c3-428d-d9ce-e543beca9087"
      },
      "source": [
        "from tensorflow.keras.layers import *\n",
        "from tensorflow.keras.models import *\n",
        "inputs=Input(shape=(32,32,3))\n",
        "x = Conv2D(10, (3, 3), padding='same', name='conv_final',activation='relu')(inputs)\n",
        "x=ROIPoolingLayer(pooled_height=2, pooled_width=2)((x,roi))\n",
        "#x=Conv3D(10,(1,1,1),padding='same',activation='relu')(x)\n",
        "x=GlobalAveragePooling3D()(x)\n",
        "x=Activation('softmax')(x)\n",
        "model=Model(inputs,x)\n",
        "model.summary()\n",
        "def identity(x,y):\n",
        "  return x\n",
        "model.compile(optimizer='sgd',loss='binary_crossentropy')"
      ],
      "execution_count": 37,
      "outputs": [
        {
          "output_type": "stream",
          "text": [
            "Model: \"model_12\"\n",
            "__________________________________________________________________________________________________\n",
            "Layer (type)                    Output Shape         Param #     Connected to                     \n",
            "==================================================================================================\n",
            "input_16 (InputLayer)           [(None, 32, 32, 3)]  0                                            \n",
            "__________________________________________________________________________________________________\n",
            "conv_final (Conv2D)             (None, 32, 32, 10)   280         input_16[0][0]                   \n",
            "__________________________________________________________________________________________________\n",
            "tf_op_layer_roi_2 (TensorFlowOp [(10, 2, 4)]         0                                            \n",
            "__________________________________________________________________________________________________\n",
            "roi_pooling_layer_9 (ROIPooling (None, 2, 2, 2, 10)  0           conv_final[0][0]                 \n",
            "                                                                 tf_op_layer_roi_2[0][0]          \n",
            "__________________________________________________________________________________________________\n",
            "global_average_pooling3d_10 (Gl (None, 10)           0           roi_pooling_layer_9[0][0]        \n",
            "__________________________________________________________________________________________________\n",
            "activation_12 (Activation)      (None, 10)           0           global_average_pooling3d_10[0][0]\n",
            "==================================================================================================\n",
            "Total params: 280\n",
            "Trainable params: 280\n",
            "Non-trainable params: 0\n",
            "__________________________________________________________________________________________________\n"
          ],
          "name": "stdout"
        }
      ]
    },
    {
      "cell_type": "code",
      "metadata": {
        "id": "vrt6SlKdIhxc",
        "colab_type": "code",
        "colab": {
          "base_uri": "https://localhost:8080/",
          "height": 34
        },
        "outputId": "824477b6-94db-4c5a-b1f5-cd50ba677219"
      },
      "source": [
        "print (trainY.shape)"
      ],
      "execution_count": 38,
      "outputs": [
        {
          "output_type": "stream",
          "text": [
            "(50000, 10)\n"
          ],
          "name": "stdout"
        }
      ]
    },
    {
      "cell_type": "code",
      "metadata": {
        "id": "U3ooqKUaHx6p",
        "colab_type": "code",
        "colab": {
          "base_uri": "https://localhost:8080/",
          "height": 51
        },
        "outputId": "1b700a2b-85f3-4aa4-8885-235ed6a97a3e"
      },
      "source": [
        "model.fit(x=trainX,y=trainY,batch_size=batch_size,epochs=10)"
      ],
      "execution_count": 0,
      "outputs": [
        {
          "output_type": "stream",
          "text": [
            "Epoch 1/10\n",
            "42840/50000 [========================>.....] - ETA: 59s - loss: 13.7898"
          ],
          "name": "stdout"
        }
      ]
    },
    {
      "cell_type": "code",
      "metadata": {
        "id": "r9RR0Y_uOC1e",
        "colab_type": "code",
        "colab": {
          "base_uri": "https://localhost:8080/",
          "height": 289
        },
        "outputId": "be95d0da-be43-46a6-c9e1-34ba0189ccd2"
      },
      "source": [
        "!nvidia-smi"
      ],
      "execution_count": 33,
      "outputs": [
        {
          "output_type": "stream",
          "text": [
            "Thu Aug  8 17:13:50 2019       \n",
            "+-----------------------------------------------------------------------------+\n",
            "| NVIDIA-SMI 418.67       Driver Version: 410.79       CUDA Version: 10.0     |\n",
            "|-------------------------------+----------------------+----------------------+\n",
            "| GPU  Name        Persistence-M| Bus-Id        Disp.A | Volatile Uncorr. ECC |\n",
            "| Fan  Temp  Perf  Pwr:Usage/Cap|         Memory-Usage | GPU-Util  Compute M. |\n",
            "|===============================+======================+======================|\n",
            "|   0  Tesla K80           Off  | 00000000:00:04.0 Off |                    0 |\n",
            "| N/A   36C    P0    69W / 149W |    226MiB / 11441MiB |      0%      Default |\n",
            "+-------------------------------+----------------------+----------------------+\n",
            "                                                                               \n",
            "+-----------------------------------------------------------------------------+\n",
            "| Processes:                                                       GPU Memory |\n",
            "|  GPU       PID   Type   Process name                             Usage      |\n",
            "|=============================================================================|\n",
            "+-----------------------------------------------------------------------------+\n"
          ],
          "name": "stdout"
        }
      ]
    }
  ]
}